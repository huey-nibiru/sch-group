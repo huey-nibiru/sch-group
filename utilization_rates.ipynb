{
 "cells": [
  {
   "attachments": {},
   "cell_type": "markdown",
   "metadata": {},
   "source": [
    "# 2023 Towson University Data Analytics Competition"
   ]
  },
  {
   "attachments": {},
   "cell_type": "markdown",
   "metadata": {},
   "source": [
    "\n",
    "\n",
    "### Objectives\n",
    "##### 1. Employee Utilization (eu)\n",
    "- Group & sort clients by eu (high to low)\n",
    "- Group & sort employees by eu (high to low)\n",
    "- Filter\n",
    "     \n",
    "##### 2. Profitability\n",
    "- Group & sort clients by total amount \n",
    "- Group and sort profitability by year and quarter"
   ]
  },
  {
   "cell_type": "code",
   "execution_count": null,
   "metadata": {},
   "outputs": [],
   "source": [
    "import time\n",
    "import pandas as pd\n",
    "from tqdm import tqdm\n",
    "import matplotlib.pyplot as plt\n"
   ]
  },
  {
   "cell_type": "code",
   "execution_count": null,
   "metadata": {},
   "outputs": [],
   "source": [
    "df = pd.read_csv('SCHGROUP_data.csv')  \n",
    "df.columns"
   ]
  },
  {
   "cell_type": "code",
   "execution_count": null,
   "metadata": {},
   "outputs": [],
   "source": [
    "hours = df[[\"EmployeeId\", \"ClientNum\", \"BillType\", \"Hours\"]]\n",
    "employee_ids = list(hours.EmployeeId.unique())\n",
    "client_ids =list(hours.ClientNum.unique())"
   ]
  },
  {
   "attachments": {},
   "cell_type": "markdown",
   "metadata": {},
   "source": [
    "### Utilization Rate\n",
    " "
   ]
  },
  {
   "cell_type": "code",
   "execution_count": null,
   "metadata": {},
   "outputs": [],
   "source": [
    "def get_rates(field):\n",
    "    if field == \"employee_id\":\n",
    "        ids = list(hours.EmployeeId.unique())\n",
    "        field = \"EmployeeId\"\n",
    "    elif field == \"client_id\":\n",
    "        ids =list(hours.ClientNum.unique())\n",
    "        field = \"ClientNum\"\n",
    "    util_rates = []\n",
    "    for i in tqdm(ids):\n",
    "        df = hours.loc[hours[field]==i]\n",
    "        billable = float(sum(list(df.loc[df['BillType'] == 'Billable'][\"Hours\"])))\n",
    "        nonbillable = float(sum(list(df.loc[df['BillType'] == 'NonBillable'][\"Hours\"])))\n",
    "        total = billable + nonbillable\n",
    "\n",
    "        try:\n",
    "            data = {field:i,\n",
    "                    \"billable\":billable,\n",
    "                    \"total\":total,\n",
    "                    \"ratio\": float(round(((billable/total) * 100),2))}\n",
    "            util_rates.append(data)\n",
    "        except:\n",
    "            data[\"billable_ratio\"]=0\n",
    "    new_df = pd.DataFrame(util_rates)\n",
    "    return new_df"
   ]
  },
  {
   "attachments": {},
   "cell_type": "markdown",
   "metadata": {},
   "source": [
    "### Employee Utilization"
   ]
  },
  {
   "cell_type": "code",
   "execution_count": null,
   "metadata": {},
   "outputs": [],
   "source": [
    "path = \"/Users/Yousefmacer/Github/sch-group/ouput/employee_rates.csv\"\n",
    "e_rates = get_rates(\"employee_id\")\n",
    "#e_rates.to_csv(path, index=False)"
   ]
  },
  {
   "attachments": {},
   "cell_type": "markdown",
   "metadata": {},
   "source": [
    "### Profitability"
   ]
  },
  {
   "cell_type": "code",
   "execution_count": 61,
   "metadata": {},
   "outputs": [],
   "source": [
    "def return_total(in_put):\n",
    "    filtered_list = []\n",
    "    amounts = in_put.split(\"$\")\n",
    "    for value in amounts:\n",
    "        v= value.strip()\n",
    "        try:filtered_list.append(float(v))\n",
    "        except:pass\n",
    "    total = round(sum(filtered_list),2)\n",
    "    return total"
   ]
  },
  {
   "cell_type": "code",
   "execution_count": 60,
   "metadata": {},
   "outputs": [
    {
     "data": {
      "text/html": [
       "<div>\n",
       "<style scoped>\n",
       "    .dataframe tbody tr th:only-of-type {\n",
       "        vertical-align: middle;\n",
       "    }\n",
       "\n",
       "    .dataframe tbody tr th {\n",
       "        vertical-align: top;\n",
       "    }\n",
       "\n",
       "    .dataframe thead th {\n",
       "        text-align: right;\n",
       "    }\n",
       "</style>\n",
       "<table border=\"1\" class=\"dataframe\">\n",
       "  <thead>\n",
       "    <tr style=\"text-align: right;\">\n",
       "      <th></th>\n",
       "      <th>ClientNum</th>\n",
       "      <th>Profit</th>\n",
       "    </tr>\n",
       "  </thead>\n",
       "  <tbody>\n",
       "    <tr>\n",
       "      <th>0</th>\n",
       "      <td>CLT1000</td>\n",
       "      <td>6728.63</td>\n",
       "    </tr>\n",
       "    <tr>\n",
       "      <th>1</th>\n",
       "      <td>CLT1001</td>\n",
       "      <td>6817.12</td>\n",
       "    </tr>\n",
       "    <tr>\n",
       "      <th>2</th>\n",
       "      <td>CLT1002</td>\n",
       "      <td>19634.80</td>\n",
       "    </tr>\n",
       "    <tr>\n",
       "      <th>3</th>\n",
       "      <td>CLT1003</td>\n",
       "      <td>5710.54</td>\n",
       "    </tr>\n",
       "    <tr>\n",
       "      <th>4</th>\n",
       "      <td>CLT1004</td>\n",
       "      <td>20823.96</td>\n",
       "    </tr>\n",
       "    <tr>\n",
       "      <th>...</th>\n",
       "      <td>...</td>\n",
       "      <td>...</td>\n",
       "    </tr>\n",
       "    <tr>\n",
       "      <th>3044</th>\n",
       "      <td>CLT4044</td>\n",
       "      <td>8468.00</td>\n",
       "    </tr>\n",
       "    <tr>\n",
       "      <th>3045</th>\n",
       "      <td>CLT4045</td>\n",
       "      <td>11360.46</td>\n",
       "    </tr>\n",
       "    <tr>\n",
       "      <th>3046</th>\n",
       "      <td>CLT4046</td>\n",
       "      <td>290.92</td>\n",
       "    </tr>\n",
       "    <tr>\n",
       "      <th>3047</th>\n",
       "      <td>CLT4047</td>\n",
       "      <td>58319.97</td>\n",
       "    </tr>\n",
       "    <tr>\n",
       "      <th>3048</th>\n",
       "      <td>CLT4048</td>\n",
       "      <td>79674.58</td>\n",
       "    </tr>\n",
       "  </tbody>\n",
       "</table>\n",
       "<p>3049 rows × 2 columns</p>\n",
       "</div>"
      ],
      "text/plain": [
       "     ClientNum    Profit\n",
       "0      CLT1000   6728.63\n",
       "1      CLT1001   6817.12\n",
       "2      CLT1002  19634.80\n",
       "3      CLT1003   5710.54\n",
       "4      CLT1004  20823.96\n",
       "...        ...       ...\n",
       "3044   CLT4044   8468.00\n",
       "3045   CLT4045  11360.46\n",
       "3046   CLT4046    290.92\n",
       "3047   CLT4047  58319.97\n",
       "3048   CLT4048  79674.58\n",
       "\n",
       "[3049 rows x 2 columns]"
      ]
     },
     "execution_count": 60,
     "metadata": {},
     "output_type": "execute_result"
    }
   ],
   "source": [
    "grouped = df.groupby('ClientNum')\n",
    "total_amounts = grouped['TotalAmount'].sum()\n",
    "client_totals = []\n",
    "for client_num, total_amount in total_amounts.iteritems():\n",
    "    total = return_total(total_amount)\n",
    "    client_totals.append({\"ClientNum\":client_num, \"Profit\": total})\n",
    "client_totals = pd.DataFrame(client_totals)\n",
    "path = \"/Users/Yousefmacer/Github/sch-group/ouput/client_totals.csv\"\n",
    "client_totals.to_csv(path, index=False)\n",
    "client_totals"
   ]
  },
  {
   "attachments": {},
   "cell_type": "markdown",
   "metadata": {},
   "source": [
    "### Find the total + average profitability for each quarter of each year "
   ]
  },
  {
   "cell_type": "code",
   "execution_count": null,
   "metadata": {},
   "outputs": [],
   "source": [
    "# convert the date column to datetime format\n",
    "df['Date'] = pd.to_datetime(df['Date'])"
   ]
  },
  {
   "cell_type": "code",
   "execution_count": 65,
   "metadata": {},
   "outputs": [
    {
     "data": {
      "text/plain": [
       "9837441.2"
      ]
     },
     "execution_count": 65,
     "metadata": {},
     "output_type": "execute_result"
    }
   ],
   "source": [
    "q1 = pd.date_range(start='2019-01-01', end='2019-03-31')\n",
    "q2 = pd.date_range(start='2019-04-01', end='2019-06-30')\n",
    "q3 = pd.date_range(start='2019-07-01', end='2019-09-30')\n",
    "q4 = pd.date_range(start='2019-10-01', end='2019-12-31')\n",
    "\n",
    "# filter the dataframe for each quarter\n",
    "q1_2019 = df[df['Date'].isin(q1)].sort_values(by='Date', ascending=True)\n",
    "q2_2019 = df[df['Date'].isin(q2)].sort_values(by='Date', ascending=True)\n",
    "q3_2019 = df[df['Date'].isin(q3)].sort_values(by='Date', ascending=True)\n",
    "q4_2019 = df[df['Date'].isin(q4)].sort_values(by='Date', ascending=True)\n",
    "\n",
    "q1_2019_profit = q1_2019['TotalAmount'].sum()\n",
    "q1_2019_profit = return_total(q1_2019_profit)\n",
    "\n",
    "q2_2019_profit = q2_2019['TotalAmount'].sum()\n",
    "q2_2019_profit = return_total(q2_2019_profit)\n",
    "\n",
    "q3_2019_profit = q3_2019['TotalAmount'].sum()\n",
    "q3_2019_profit = return_total(q3_2019_profit)\n",
    "\n",
    "q4_2019_profit = q4_2019['TotalAmount'].sum()\n",
    "q4_2019_profit = return_total(q4_2019_profit)\n"
   ]
  },
  {
   "cell_type": "code",
   "execution_count": 66,
   "metadata": {},
   "outputs": [
    {
     "data": {
      "image/png": "[encoded data removed]",
      "text/plain": [
       "<Figure size 432x288 with 1 Axes>"
      ]
     },
     "metadata": {
      "needs_background": "light"
     },
     "output_type": "display_data"
    },
    {
     "name": "stdout",
     "output_type": "stream",
     "text": [
      "[15499297.16, 12665752.6, 11968999.14, 9837441.2]\n"
     ]
    }
   ],
   "source": [
    "x = ['q1', 'q2', 'q3', 'q4']\n",
    "y = [q1_2019_profit, q2_2019_profit, q3_2019_profit, q4_2019_profit]\n",
    "\n",
    "plt.plot(x, y)\n",
    "\n",
    "plt.title('2019 Profit By Quarter')\n",
    "plt.xlabel('Quarter')\n",
    "plt.ylabel('Sales')\n",
    "\n",
    "plt.show()\n",
    "print(y)"
   ]
  },
  {
   "cell_type": "code",
   "execution_count": 71,
   "metadata": {},
   "outputs": [],
   "source": [
    "q1 = pd.date_range(start='2020-01-01', end='2020-03-31')\n",
    "q2 = pd.date_range(start='2020-04-01', end='2020-06-30')\n",
    "q3 = pd.date_range(start='2020-07-01', end='2020-09-30')\n",
    "q4 = pd.date_range(start='2020-10-01', end='2020-12-31')\n",
    "\n",
    "# filter the dataframe for each quarter\n",
    "q1_2020 = df[df['Date'].isin(q1)].sort_values(by='Date', ascending=True)\n",
    "q2_2020 = df[df['Date'].isin(q2)].sort_values(by='Date', ascending=True)\n",
    "q3_2020 = df[df['Date'].isin(q3)].sort_values(by='Date', ascending=True)\n",
    "q4_2020 = df[df['Date'].isin(q4)].sort_values(by='Date', ascending=True)\n",
    "\n",
    "q1_2020_profit = q1_2020['TotalAmount'].sum()\n",
    "q1_2020_profit = return_total(q1_2020_profit)\n",
    "\n",
    "q2_2020_profit = q2_2020['TotalAmount'].sum()\n",
    "q2_2020_profit = return_total(q2_2020_profit)\n",
    "\n",
    "q3_2020_profit = q3_2020['TotalAmount'].sum()\n",
    "q3_2020_profit = return_total(q3_2020_profit)\n",
    "\n",
    "q4_2020_profit = q4_2020['TotalAmount'].sum()\n",
    "q4_2020_profit = return_total(q4_2020_profit)\n"
   ]
  },
  {
   "cell_type": "code",
   "execution_count": 72,
   "metadata": {},
   "outputs": [
    {
     "data": {
      "image/png": "[encoded data removed]",
      "text/plain": [
       "<Figure size 432x288 with 1 Axes>"
      ]
     },
     "metadata": {
      "needs_background": "light"
     },
     "output_type": "display_data"
    },
    {
     "name": "stdout",
     "output_type": "stream",
     "text": [
      "[15518757.82, 14008803.09, 13291332.41, 11703508.27]\n"
     ]
    }
   ],
   "source": [
    "x = ['q1', 'q2', 'q3', 'q4']\n",
    "y = [q1_2020_profit, q2_2020_profit, q3_2020_profit, q4_2020_profit]\n",
    "\n",
    "plt.plot(x, y)\n",
    "\n",
    "plt.title('2020 Profit By Quarter')\n",
    "plt.xlabel('Quarter')\n",
    "plt.ylabel('Sales')\n",
    "\n",
    "plt.show()\n",
    "print(y)"
   ]
  },
  {
   "cell_type": "code",
   "execution_count": null,
   "metadata": {},
   "outputs": [],
   "source": []
  },
  {
   "cell_type": "code",
   "execution_count": null,
   "metadata": {},
   "outputs": [],
   "source": []
  },
  {
   "cell_type": "code",
   "execution_count": null,
   "metadata": {},
   "outputs": [],
   "source": []
  },
  {
   "cell_type": "code",
   "execution_count": null,
   "metadata": {},
   "outputs": [],
   "source": []
  },
  {
   "cell_type": "code",
   "execution_count": null,
   "metadata": {},
   "outputs": [],
   "source": []
  },
  {
   "cell_type": "code",
   "execution_count": 73,
   "metadata": {},
   "outputs": [],
   "source": [
    "q1 = pd.date_range(start='2021-01-01', end='2021-03-31')\n",
    "q2 = pd.date_range(start='2021-04-01', end='2021-06-30')\n",
    "q3 = pd.date_range(start='2021-07-01', end='2021-09-30')\n",
    "q4 = pd.date_range(start='2021-10-01', end='2021-12-31')\n",
    "\n",
    "# filter the dataframe for each quarter\n",
    "q1_2021 = df[df['Date'].isin(q1)].sort_values(by='Date', ascending=True)\n",
    "q2_2021 = df[df['Date'].isin(q2)].sort_values(by='Date', ascending=True)\n",
    "q3_2021 = df[df['Date'].isin(q3)].sort_values(by='Date', ascending=True)\n",
    "q4_2021 = df[df['Date'].isin(q4)].sort_values(by='Date', ascending=True)\n",
    "\n",
    "q1_2021_profit = q1_2021['TotalAmount'].sum()\n",
    "q1_2021_profit = return_total(q1_2021_profit)\n",
    "\n",
    "q2_2021_profit = q2_2021['TotalAmount'].sum()\n",
    "q2_2021_profit = return_total(q2_2021_profit)\n",
    "\n",
    "q3_2021_profit = q3_2021['TotalAmount'].sum()\n",
    "q3_2021_profit = return_total(q3_2021_profit)\n",
    "\n",
    "q4_2021_profit = q4_2021['TotalAmount'].sum()\n",
    "q4_2021_profit = return_total(q4_2021_profit)\n"
   ]
  },
  {
   "cell_type": "code",
   "execution_count": 97,
   "metadata": {},
   "outputs": [
    {
     "data": {
      "image/png": "[encoded data removed]",
      "text/plain": [
       "<Figure size 432x288 with 1 Axes>"
      ]
     },
     "metadata": {
      "needs_background": "light"
     },
     "output_type": "display_data"
    }
   ],
   "source": [
    "x = ['2019 q1', '2019 q2', '2019 q3', '2019 q4',\n",
    "     '2020 q1', '2020 q2', '2020 q3', '2020 q4',\n",
    "     '2021 q1', '2021 q2', '2021 q3', '2021 q4']\n",
    "y = [q1_2019_profit, q2_2019_profit, q3_2019_profit, q4_2019_profit,\n",
    "     q1_2020_profit, q2_2020_profit, q3_2020_profit, q4_2020_profit,\n",
    "     q1_2021_profit, q2_2021_profit, q3_2021_profit, q4_2021_profit]\n",
    "\n",
    "plt.plot(x, y)\n",
    "\n",
    "plt.title('Profit By Quarter')\n",
    "plt.xlabel('Quarter')\n",
    "plt.ylabel('Sales')\n",
    "\n",
    "plt.xlim(0, 11)\n",
    "\n",
    "# rotate the x tick labels\n",
    "plt.xticks(rotation=75)\n",
    "\n",
    "\n",
    "plt.show()\n"
   ]
  },
  {
   "cell_type": "code",
   "execution_count": null,
   "metadata": {},
   "outputs": [],
   "source": []
  }
 ],
 "metadata": {
  "kernelspec": {
   "display_name": "Python 3",
   "language": "python",
   "name": "python3"
  },
  "language_info": {
   "codemirror_mode": {
    "name": "ipython",
    "version": 3
   },
   "file_extension": ".py",
   "mimetype": "text/x-python",
   "name": "python",
   "nbconvert_exporter": "python",
   "pygments_lexer": "ipython3",
   "version": "3.10.0"
  },
  "orig_nbformat": 4
 },
 "nbformat": 4,
 "nbformat_minor": 2
}
