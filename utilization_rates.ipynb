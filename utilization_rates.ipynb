{
 "cells": [
  {
   "attachments": {},
   "cell_type": "markdown",
   "metadata": {},
   "source": [
    "# 2023 Towson University Data Analytics Competition"
   ]
  },
  {
   "attachments": {},
   "cell_type": "markdown",
   "metadata": {},
   "source": [
    "\n",
    "\n",
    "### Objectives\n",
    "##### 1. Employee Utilization (eu)\n",
    "- Group & sort clients by eu (high to low)\n",
    "- DGroup & sort employees by eu (high to low)\n",
    "- Filter\n",
    "     \n",
    "##### 2. Profitability\n",
    "- Group & sort clients by total amount \n",
    "- Group and sort profitability by year and quarter"
   ]
  },
  {
   "cell_type": "code",
   "execution_count": 62,
   "metadata": {},
   "outputs": [],
   "source": [
    "import time\n",
    "import pandas as pd\n",
    "from tqdm import tqdm\n",
    "import matplotlib.pyplot as plt"
   ]
  },
  {
   "cell_type": "code",
   "execution_count": 73,
   "metadata": {},
   "outputs": [
    {
     "data": {
      "text/html": [
       "<div>\n",
       "<style scoped>\n",
       "    .dataframe tbody tr th:only-of-type {\n",
       "        vertical-align: middle;\n",
       "    }\n",
       "\n",
       "    .dataframe tbody tr th {\n",
       "        vertical-align: top;\n",
       "    }\n",
       "\n",
       "    .dataframe thead th {\n",
       "        text-align: right;\n",
       "    }\n",
       "</style>\n",
       "<table border=\"1\" class=\"dataframe\">\n",
       "  <thead>\n",
       "    <tr style=\"text-align: right;\">\n",
       "      <th></th>\n",
       "      <th>ClientNum</th>\n",
       "      <th>Date</th>\n",
       "      <th>DeptID</th>\n",
       "      <th>DeptName</th>\n",
       "      <th>EmployeeId</th>\n",
       "      <th>BillType</th>\n",
       "      <th>Hours</th>\n",
       "      <th>BillRate</th>\n",
       "      <th>TotalAmount</th>\n",
       "    </tr>\n",
       "  </thead>\n",
       "  <tbody>\n",
       "    <tr>\n",
       "      <th>0</th>\n",
       "      <td>CLT3670</td>\n",
       "      <td>1/7/2019</td>\n",
       "      <td>0</td>\n",
       "      <td>No Selection</td>\n",
       "      <td>0</td>\n",
       "      <td>NonBillable</td>\n",
       "      <td>1.50</td>\n",
       "      <td>$-</td>\n",
       "      <td>$-</td>\n",
       "    </tr>\n",
       "    <tr>\n",
       "      <th>1</th>\n",
       "      <td>CLT3670</td>\n",
       "      <td>1/7/2019</td>\n",
       "      <td>0</td>\n",
       "      <td>No Selection</td>\n",
       "      <td>0</td>\n",
       "      <td>NonBillable</td>\n",
       "      <td>0.25</td>\n",
       "      <td>$-</td>\n",
       "      <td>$-</td>\n",
       "    </tr>\n",
       "    <tr>\n",
       "      <th>2</th>\n",
       "      <td>CLT3670</td>\n",
       "      <td>1/7/2019</td>\n",
       "      <td>0</td>\n",
       "      <td>No Selection</td>\n",
       "      <td>0</td>\n",
       "      <td>NonBillable</td>\n",
       "      <td>0.75</td>\n",
       "      <td>$-</td>\n",
       "      <td>$-</td>\n",
       "    </tr>\n",
       "    <tr>\n",
       "      <th>3</th>\n",
       "      <td>CLT3670</td>\n",
       "      <td>1/7/2019</td>\n",
       "      <td>0</td>\n",
       "      <td>No Selection</td>\n",
       "      <td>0</td>\n",
       "      <td>NonBillable</td>\n",
       "      <td>0.50</td>\n",
       "      <td>$-</td>\n",
       "      <td>$-</td>\n",
       "    </tr>\n",
       "    <tr>\n",
       "      <th>4</th>\n",
       "      <td>CLT3670</td>\n",
       "      <td>1/7/2019</td>\n",
       "      <td>0</td>\n",
       "      <td>No Selection</td>\n",
       "      <td>0</td>\n",
       "      <td>NonBillable</td>\n",
       "      <td>0.75</td>\n",
       "      <td>$-</td>\n",
       "      <td>$-</td>\n",
       "    </tr>\n",
       "    <tr>\n",
       "      <th>5</th>\n",
       "      <td>CLT3670</td>\n",
       "      <td>1/7/2019</td>\n",
       "      <td>0</td>\n",
       "      <td>No Selection</td>\n",
       "      <td>0</td>\n",
       "      <td>NonBillable</td>\n",
       "      <td>0.25</td>\n",
       "      <td>$-</td>\n",
       "      <td>$-</td>\n",
       "    </tr>\n",
       "    <tr>\n",
       "      <th>6</th>\n",
       "      <td>CLT3670</td>\n",
       "      <td>1/7/2019</td>\n",
       "      <td>0</td>\n",
       "      <td>No Selection</td>\n",
       "      <td>0</td>\n",
       "      <td>NonBillable</td>\n",
       "      <td>0.50</td>\n",
       "      <td>$-</td>\n",
       "      <td>$-</td>\n",
       "    </tr>\n",
       "    <tr>\n",
       "      <th>7</th>\n",
       "      <td>CLT3670</td>\n",
       "      <td>1/7/2019</td>\n",
       "      <td>0</td>\n",
       "      <td>No Selection</td>\n",
       "      <td>0</td>\n",
       "      <td>NonBillable</td>\n",
       "      <td>5.50</td>\n",
       "      <td>$-</td>\n",
       "      <td>$-</td>\n",
       "    </tr>\n",
       "    <tr>\n",
       "      <th>8</th>\n",
       "      <td>CLT3670</td>\n",
       "      <td>1/7/2019</td>\n",
       "      <td>0</td>\n",
       "      <td>No Selection</td>\n",
       "      <td>0</td>\n",
       "      <td>NonBillable</td>\n",
       "      <td>0.50</td>\n",
       "      <td>$-</td>\n",
       "      <td>$-</td>\n",
       "    </tr>\n",
       "    <tr>\n",
       "      <th>9</th>\n",
       "      <td>CLT3670</td>\n",
       "      <td>1/7/2019</td>\n",
       "      <td>0</td>\n",
       "      <td>No Selection</td>\n",
       "      <td>0</td>\n",
       "      <td>NonBillable</td>\n",
       "      <td>0.00</td>\n",
       "      <td>$0.62</td>\n",
       "      <td>$-</td>\n",
       "    </tr>\n",
       "  </tbody>\n",
       "</table>\n",
       "</div>"
      ],
      "text/plain": [
       "  ClientNum      Date  DeptID       DeptName  EmployeeId     BillType  Hours  \\\n",
       "0   CLT3670  1/7/2019       0   No Selection           0  NonBillable   1.50   \n",
       "1   CLT3670  1/7/2019       0   No Selection           0  NonBillable   0.25   \n",
       "2   CLT3670  1/7/2019       0   No Selection           0  NonBillable   0.75   \n",
       "3   CLT3670  1/7/2019       0   No Selection           0  NonBillable   0.50   \n",
       "4   CLT3670  1/7/2019       0   No Selection           0  NonBillable   0.75   \n",
       "5   CLT3670  1/7/2019       0   No Selection           0  NonBillable   0.25   \n",
       "6   CLT3670  1/7/2019       0   No Selection           0  NonBillable   0.50   \n",
       "7   CLT3670  1/7/2019       0   No Selection           0  NonBillable   5.50   \n",
       "8   CLT3670  1/7/2019       0   No Selection           0  NonBillable   0.50   \n",
       "9   CLT3670  1/7/2019       0   No Selection           0  NonBillable   0.00   \n",
       "\n",
       "   BillRate   TotalAmount   \n",
       "0      $-            $-     \n",
       "1      $-            $-     \n",
       "2      $-            $-     \n",
       "3      $-            $-     \n",
       "4      $-            $-     \n",
       "5      $-            $-     \n",
       "6      $-            $-     \n",
       "7      $-            $-     \n",
       "8      $-            $-     \n",
       "9     $0.62          $-     "
      ]
     },
     "execution_count": 73,
     "metadata": {},
     "output_type": "execute_result"
    }
   ],
   "source": [
    "df = pd.read_csv('SCHGROUP_data.csv')  \n",
    "df.head(10)"
   ]
  },
  {
   "cell_type": "code",
   "execution_count": 64,
   "metadata": {},
   "outputs": [],
   "source": [
    "hours = df[[\"EmployeeId\", \"ClientNum\", \"BillType\", \"Hours\"]]\n",
    "employee_ids = list(hours.EmployeeId.unique())\n",
    "client_ids =list(hours.ClientNum.unique())"
   ]
  },
  {
   "attachments": {},
   "cell_type": "markdown",
   "metadata": {},
   "source": [
    "### Compute Utilization Rate\n",
    " "
   ]
  },
  {
   "cell_type": "code",
   "execution_count": 65,
   "metadata": {},
   "outputs": [],
   "source": [
    "def get_rates(field):\n",
    "    if field == \"employee_id\":\n",
    "        ids = list(hours.EmployeeId.unique())\n",
    "        field = \"EmployeeId\"\n",
    "    elif field == \"client_id\":\n",
    "        ids =list(hours.ClientNum.unique())\n",
    "        field = \"ClientNum\"\n",
    "    util_rates = []\n",
    "    for i in tqdm(ids):\n",
    "        df = hours.loc[hours[field]==i]\n",
    "        billable = float(sum(list(df.loc[df['BillType'] == 'Billable'][\"Hours\"])))\n",
    "        nonbillable = float(sum(list(df.loc[df['BillType'] == 'NonBillable'][\"Hours\"])))\n",
    "        total = billable + nonbillable\n",
    "\n",
    "        try:\n",
    "            data = {field:i,\n",
    "                    \"billable\":billable,\n",
    "                    \"total\":total,\n",
    "                    \"ratio\": float(round(((billable/total) * 100),2))}\n",
    "            util_rates.append(data)\n",
    "        except:\n",
    "            data[\"billable_ratio\"]=0\n",
    "    new_df = pd.DataFrame(util_rates)\n",
    "    return new_df"
   ]
  },
  {
   "attachments": {},
   "cell_type": "markdown",
   "metadata": {},
   "source": [
    "### Employee Utilization"
   ]
  },
  {
   "cell_type": "code",
   "execution_count": 66,
   "metadata": {},
   "outputs": [
    {
     "name": "stderr",
     "output_type": "stream",
     "text": [
      "100%|██████████| 508/508 [00:01<00:00, 347.18it/s]\n"
     ]
    }
   ],
   "source": [
    "e_rates = get_rates(\"employee_id\")\n",
    "e_rates.to_csv(\"/Users/Yousefmacer/Github/sch-group/ouput/employee_rates.csv\", index=False)"
   ]
  },
  {
   "attachments": {},
   "cell_type": "markdown",
   "metadata": {},
   "source": [
    "### Client Utilization"
   ]
  },
  {
   "cell_type": "code",
   "execution_count": 67,
   "metadata": {},
   "outputs": [
    {
     "name": "stderr",
     "output_type": "stream",
     "text": [
      "100%|██████████| 3049/3049 [03:14<00:00, 15.64it/s]\n"
     ]
    }
   ],
   "source": [
    "c_rates = get_rates(\"client_id\")\n",
    "#c_rates.to_csv(\"/Users/Yousefmacer/Github/sch-group/ouput/client_rates.csv\", index=False)"
   ]
  }
 ],
 "metadata": {
  "kernelspec": {
   "display_name": "Python 3",
   "language": "python",
   "name": "python3"
  },
  "language_info": {
   "codemirror_mode": {
    "name": "ipython",
    "version": 3
   },
   "file_extension": ".py",
   "mimetype": "text/x-python",
   "name": "python",
   "nbconvert_exporter": "python",
   "pygments_lexer": "ipython3",
   "version": "3.10.0"
  },
  "orig_nbformat": 4
 },
 "nbformat": 4,
 "nbformat_minor": 2
}
