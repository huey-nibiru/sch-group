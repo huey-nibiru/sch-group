{
 "cells": [
  {
   "attachments": {},
   "cell_type": "markdown",
   "metadata": {},
   "source": [
    "# 2023 Towson University Data Analytics Competition"
   ]
  },
  {
   "attachments": {},
   "cell_type": "markdown",
   "metadata": {},
   "source": [
    "\n",
    "\n",
    "### Objectives\n",
    "##### 1. Employee Utilization \n",
    "- Group & sort clients by eu (high to low)\n",
    "- Group & sort employees by eu (high to low)\n",
    "- Filter\n",
    "     \n",
    "##### 2. Profitability\n",
    "- Group & sort clients by total amount \n",
    "- Group and sort profitability by year and quarter"
   ]
  },
  {
   "cell_type": "code",
   "execution_count": 3,
   "metadata": {},
   "outputs": [
    {
     "name": "stderr",
     "output_type": "stream",
     "text": [
      "Matplotlib created a temporary config/cache directory at /var/folders/fm/gf09nxpx12n_7pcjsnlx5yt00000gn/T/matplotlib-g7qh3n8z because the default path (/Users/Yousefmacer/.matplotlib) is not a writable directory; it is highly recommended to set the MPLCONFIGDIR environment variable to a writable directory, in particular to speed up the import of Matplotlib and to better support multiprocessing.\n"
     ]
    }
   ],
   "source": [
    "import time\n",
    "import pandas as pd\n",
    "from tqdm import tqdm\n",
    "import matplotlib.pyplot as plt\n"
   ]
  },
  {
   "cell_type": "code",
   "execution_count": 4,
   "metadata": {},
   "outputs": [
    {
     "data": {
      "text/html": [
       "<div>\n",
       "<style scoped>\n",
       "    .dataframe tbody tr th:only-of-type {\n",
       "        vertical-align: middle;\n",
       "    }\n",
       "\n",
       "    .dataframe tbody tr th {\n",
       "        vertical-align: top;\n",
       "    }\n",
       "\n",
       "    .dataframe thead th {\n",
       "        text-align: right;\n",
       "    }\n",
       "</style>\n",
       "<table border=\"1\" class=\"dataframe\">\n",
       "  <thead>\n",
       "    <tr style=\"text-align: right;\">\n",
       "      <th></th>\n",
       "      <th>ClientNum</th>\n",
       "      <th>Date</th>\n",
       "      <th>DeptID</th>\n",
       "      <th>DeptName</th>\n",
       "      <th>EmployeeId</th>\n",
       "      <th>BillType</th>\n",
       "      <th>Hours</th>\n",
       "      <th>BillRate</th>\n",
       "      <th>TotalAmount</th>\n",
       "    </tr>\n",
       "  </thead>\n",
       "  <tbody>\n",
       "    <tr>\n",
       "      <th>1015479</th>\n",
       "      <td>CLT2417</td>\n",
       "      <td>12/8/2020</td>\n",
       "      <td>27</td>\n",
       "      <td>TAS - Audit</td>\n",
       "      <td>1516</td>\n",
       "      <td>Billable</td>\n",
       "      <td>0.5</td>\n",
       "      <td>$321.75</td>\n",
       "      <td>$160.88</td>\n",
       "    </tr>\n",
       "    <tr>\n",
       "      <th>1015480</th>\n",
       "      <td>CLT1695</td>\n",
       "      <td>12/8/2020</td>\n",
       "      <td>26</td>\n",
       "      <td>TAS - Wealth Management</td>\n",
       "      <td>1516</td>\n",
       "      <td>Billable</td>\n",
       "      <td>6.0</td>\n",
       "      <td>$-</td>\n",
       "      <td>$-</td>\n",
       "    </tr>\n",
       "    <tr>\n",
       "      <th>1015481</th>\n",
       "      <td>CLT1695</td>\n",
       "      <td>12/8/2020</td>\n",
       "      <td>26</td>\n",
       "      <td>TAS - Wealth Management</td>\n",
       "      <td>1516</td>\n",
       "      <td>Billable</td>\n",
       "      <td>4.0</td>\n",
       "      <td>$-</td>\n",
       "      <td>$-</td>\n",
       "    </tr>\n",
       "  </tbody>\n",
       "</table>\n",
       "</div>"
      ],
      "text/plain": [
       "        ClientNum       Date  DeptID                 DeptName  EmployeeId  \\\n",
       "1015479   CLT2417  12/8/2020      27              TAS - Audit        1516   \n",
       "1015480   CLT1695  12/8/2020      26  TAS - Wealth Management        1516   \n",
       "1015481   CLT1695  12/8/2020      26  TAS - Wealth Management        1516   \n",
       "\n",
       "         BillType  Hours  BillRate TotalAmount  \n",
       "1015479  Billable    0.5  $321.75     $160.88   \n",
       "1015480  Billable    6.0     $-          $-     \n",
       "1015481  Billable    4.0     $-          $-     "
      ]
     },
     "execution_count": 4,
     "metadata": {},
     "output_type": "execute_result"
    }
   ],
   "source": [
    "df = pd.read_csv('SCHGROUP_data.csv')  \n",
    "df.tail(3)"
   ]
  },
  {
   "cell_type": "code",
   "execution_count": 5,
   "metadata": {},
   "outputs": [],
   "source": [
    "hours = df[[\"EmployeeId\", \"ClientNum\", \"BillType\", \"Hours\"]]\n",
    "employee_ids = list(hours.EmployeeId.unique())\n",
    "client_ids =list(hours.ClientNum.unique())"
   ]
  },
  {
   "attachments": {},
   "cell_type": "markdown",
   "metadata": {},
   "source": [
    "### Employee Utilization "
   ]
  },
  {
   "cell_type": "code",
   "execution_count": 6,
   "metadata": {},
   "outputs": [],
   "source": [
    "def get_rates(field):\n",
    "    if field == \"employee_id\":\n",
    "        ids = list(hours.EmployeeId.unique())\n",
    "        field = \"EmployeeId\"\n",
    "    elif field == \"client_id\":\n",
    "        ids =list(hours.ClientNum.unique())\n",
    "        field = \"ClientNum\"\n",
    "    util_rates = []\n",
    "    for i in tqdm(ids):\n",
    "        df = hours.loc[hours[field]==i]\n",
    "        billable = float(sum(list(df.loc[df['BillType'] == 'Billable'][\"Hours\"])))\n",
    "        nonbillable = float(sum(list(df.loc[df['BillType'] == 'NonBillable'][\"Hours\"])))\n",
    "        total = billable + nonbillable\n",
    "\n",
    "        try:\n",
    "            data = {field:i,\n",
    "                    \"billable\":billable,\n",
    "                    \"total\":total,\n",
    "                    \"ratio\": float(round(((billable/total) * 100),2))}\n",
    "            util_rates.append(data)\n",
    "        except:\n",
    "            data[\"billable_ratio\"]=0\n",
    "    new_df = pd.DataFrame(util_rates)\n",
    "    return new_df"
   ]
  },
  {
   "cell_type": "code",
   "execution_count": 7,
   "metadata": {},
   "outputs": [],
   "source": [
    "path = \"/Users/Yousefmacer/Github/sch-group/ouput/employee_rates.csv\"\n",
    "#e_rates = get_rates(\"employee_id\")\n",
    "#e_rates.to_csv(path, index=False)"
   ]
  },
  {
   "attachments": {},
   "cell_type": "markdown",
   "metadata": {},
   "source": [
    "### Client Profitability"
   ]
  },
  {
   "cell_type": "code",
   "execution_count": 8,
   "metadata": {},
   "outputs": [],
   "source": [
    "def return_total(in_put):\n",
    "    filtered_list = []\n",
    "    amounts = in_put.split(\"$\")\n",
    "    for value in amounts:\n",
    "        v= value.strip()\n",
    "        try:filtered_list.append(float(v))\n",
    "        except:pass\n",
    "    total = round(sum(filtered_list),2)\n",
    "    return total"
   ]
  },
  {
   "cell_type": "code",
   "execution_count": 9,
   "metadata": {},
   "outputs": [
    {
     "data": {
      "text/html": [
       "<div>\n",
       "<style scoped>\n",
       "    .dataframe tbody tr th:only-of-type {\n",
       "        vertical-align: middle;\n",
       "    }\n",
       "\n",
       "    .dataframe tbody tr th {\n",
       "        vertical-align: top;\n",
       "    }\n",
       "\n",
       "    .dataframe thead th {\n",
       "        text-align: right;\n",
       "    }\n",
       "</style>\n",
       "<table border=\"1\" class=\"dataframe\">\n",
       "  <thead>\n",
       "    <tr style=\"text-align: right;\">\n",
       "      <th></th>\n",
       "      <th>ClientNum</th>\n",
       "      <th>Profit</th>\n",
       "    </tr>\n",
       "  </thead>\n",
       "  <tbody>\n",
       "    <tr>\n",
       "      <th>0</th>\n",
       "      <td>CLT1000</td>\n",
       "      <td>6728.63</td>\n",
       "    </tr>\n",
       "    <tr>\n",
       "      <th>1</th>\n",
       "      <td>CLT1001</td>\n",
       "      <td>6817.12</td>\n",
       "    </tr>\n",
       "    <tr>\n",
       "      <th>2</th>\n",
       "      <td>CLT1002</td>\n",
       "      <td>19634.80</td>\n",
       "    </tr>\n",
       "    <tr>\n",
       "      <th>3</th>\n",
       "      <td>CLT1003</td>\n",
       "      <td>5710.54</td>\n",
       "    </tr>\n",
       "    <tr>\n",
       "      <th>4</th>\n",
       "      <td>CLT1004</td>\n",
       "      <td>20823.96</td>\n",
       "    </tr>\n",
       "    <tr>\n",
       "      <th>...</th>\n",
       "      <td>...</td>\n",
       "      <td>...</td>\n",
       "    </tr>\n",
       "    <tr>\n",
       "      <th>3044</th>\n",
       "      <td>CLT4044</td>\n",
       "      <td>8468.00</td>\n",
       "    </tr>\n",
       "    <tr>\n",
       "      <th>3045</th>\n",
       "      <td>CLT4045</td>\n",
       "      <td>11360.46</td>\n",
       "    </tr>\n",
       "    <tr>\n",
       "      <th>3046</th>\n",
       "      <td>CLT4046</td>\n",
       "      <td>290.92</td>\n",
       "    </tr>\n",
       "    <tr>\n",
       "      <th>3047</th>\n",
       "      <td>CLT4047</td>\n",
       "      <td>58319.97</td>\n",
       "    </tr>\n",
       "    <tr>\n",
       "      <th>3048</th>\n",
       "      <td>CLT4048</td>\n",
       "      <td>79674.58</td>\n",
       "    </tr>\n",
       "  </tbody>\n",
       "</table>\n",
       "<p>3049 rows × 2 columns</p>\n",
       "</div>"
      ],
      "text/plain": [
       "     ClientNum    Profit\n",
       "0      CLT1000   6728.63\n",
       "1      CLT1001   6817.12\n",
       "2      CLT1002  19634.80\n",
       "3      CLT1003   5710.54\n",
       "4      CLT1004  20823.96\n",
       "...        ...       ...\n",
       "3044   CLT4044   8468.00\n",
       "3045   CLT4045  11360.46\n",
       "3046   CLT4046    290.92\n",
       "3047   CLT4047  58319.97\n",
       "3048   CLT4048  79674.58\n",
       "\n",
       "[3049 rows x 2 columns]"
      ]
     },
     "execution_count": 9,
     "metadata": {},
     "output_type": "execute_result"
    }
   ],
   "source": [
    "grouped = df.groupby('ClientNum')\n",
    "total_amounts = grouped['TotalAmount'].sum()\n",
    "client_totals = []\n",
    "for client_num, total_amount in total_amounts.iteritems():\n",
    "    total = return_total(total_amount)\n",
    "    client_totals.append({\"ClientNum\":client_num, \"Profit\": total})\n",
    "client_totals = pd.DataFrame(client_totals)\n",
    "path = \"/Users/Yousefmacer/Github/sch-group/ouput/client_totals.csv\"\n",
    "client_totals.to_csv(path, index=False)\n",
    "client_totals"
   ]
  },
  {
   "attachments": {},
   "cell_type": "markdown",
   "metadata": {},
   "source": [
    "### Quarterly Revenue "
   ]
  },
  {
   "cell_type": "code",
   "execution_count": 10,
   "metadata": {},
   "outputs": [],
   "source": [
    "# convert the date column to datetime format\n",
    "df['Date'] = pd.to_datetime(df['Date'])"
   ]
  },
  {
   "cell_type": "code",
   "execution_count": 11,
   "metadata": {},
   "outputs": [],
   "source": [
    "# 2019 Quarterly Revenue\n",
    "q1 = pd.date_range(start='2019-01-01', end='2019-03-31')\n",
    "q2 = pd.date_range(start='2019-04-01', end='2019-06-30')\n",
    "q3 = pd.date_range(start='2019-07-01', end='2019-09-30')\n",
    "q4 = pd.date_range(start='2019-10-01', end='2019-12-31')\n",
    "\n",
    "# filter the dataframe for each quarter\n",
    "q1_2019 = df[df['Date'].isin(q1)].sort_values(by='Date', ascending=True)\n",
    "q2_2019 = df[df['Date'].isin(q2)].sort_values(by='Date', ascending=True)\n",
    "q3_2019 = df[df['Date'].isin(q3)].sort_values(by='Date', ascending=True)\n",
    "q4_2019 = df[df['Date'].isin(q4)].sort_values(by='Date', ascending=True)\n",
    "\n",
    "q1_2019_profit = q1_2019['TotalAmount'].sum()\n",
    "q1_2019_profit = return_total(q1_2019_profit)\n",
    "\n",
    "q2_2019_profit = q2_2019['TotalAmount'].sum()\n",
    "q2_2019_profit = return_total(q2_2019_profit)\n",
    "\n",
    "q3_2019_profit = q3_2019['TotalAmount'].sum()\n",
    "q3_2019_profit = return_total(q3_2019_profit)\n",
    "\n",
    "q4_2019_profit = q4_2019['TotalAmount'].sum()\n",
    "q4_2019_profit = return_total(q4_2019_profit)\n"
   ]
  },
  {
   "cell_type": "code",
   "execution_count": 12,
   "metadata": {},
   "outputs": [],
   "source": [
    "# 2020 Quarterly Revenue\n",
    "q1 = pd.date_range(start='2020-01-01', end='2020-03-31')\n",
    "q2 = pd.date_range(start='2020-04-01', end='2020-06-30')\n",
    "q3 = pd.date_range(start='2020-07-01', end='2020-09-30')\n",
    "q4 = pd.date_range(start='2020-10-01', end='2020-12-31')\n",
    "\n",
    "# filter the dataframe for each quarter\n",
    "q1_2020 = df[df['Date'].isin(q1)].sort_values(by='Date', ascending=True)\n",
    "q2_2020 = df[df['Date'].isin(q2)].sort_values(by='Date', ascending=True)\n",
    "q3_2020 = df[df['Date'].isin(q3)].sort_values(by='Date', ascending=True)\n",
    "q4_2020 = df[df['Date'].isin(q4)].sort_values(by='Date', ascending=True)\n",
    "\n",
    "q1_2020_profit = q1_2020['TotalAmount'].sum()\n",
    "q1_2020_profit = return_total(q1_2020_profit)\n",
    "\n",
    "q2_2020_profit = q2_2020['TotalAmount'].sum()\n",
    "q2_2020_profit = return_total(q2_2020_profit)\n",
    "\n",
    "q3_2020_profit = q3_2020['TotalAmount'].sum()\n",
    "q3_2020_profit = return_total(q3_2020_profit)\n",
    "\n",
    "q4_2020_profit = q4_2020['TotalAmount'].sum()\n",
    "q4_2020_profit = return_total(q4_2020_profit)"
   ]
  },
  {
   "cell_type": "code",
   "execution_count": 13,
   "metadata": {},
   "outputs": [],
   "source": [
    "# 2021 Quarterly Revenue\n",
    "q1 = pd.date_range(start='2021-01-01', end='2021-03-31')\n",
    "q2 = pd.date_range(start='2021-04-01', end='2021-06-30')\n",
    "q3 = pd.date_range(start='2021-07-01', end='2021-09-30')\n",
    "q4 = pd.date_range(start='2021-10-01', end='2021-12-31')\n",
    "\n",
    "# filter the dataframe for each quarter\n",
    "q1_2021 = df[df['Date'].isin(q1)].sort_values(by='Date', ascending=True)\n",
    "q2_2021 = df[df['Date'].isin(q2)].sort_values(by='Date', ascending=True)\n",
    "q3_2021 = df[df['Date'].isin(q3)].sort_values(by='Date', ascending=True)\n",
    "q4_2021 = df[df['Date'].isin(q4)].sort_values(by='Date', ascending=True)\n",
    "\n",
    "q1_2021_profit = q1_2021['TotalAmount'].sum()\n",
    "q1_2021_profit = return_total(q1_2021_profit)\n",
    "\n",
    "q2_2021_profit = q2_2021['TotalAmount'].sum()\n",
    "q2_2021_profit = return_total(q2_2021_profit)\n",
    "\n",
    "q3_2021_profit = q3_2021['TotalAmount'].sum()\n",
    "q3_2021_profit = return_total(q3_2021_profit)\n",
    "\n",
    "q4_2021_profit = q4_2021['TotalAmount'].sum()\n",
    "q4_2021_profit = return_total(q4_2021_profit)"
   ]
  },
  {
   "cell_type": "code",
   "execution_count": 14,
   "metadata": {},
   "outputs": [
    {
     "data": {
      "image/png": "[encoded data removed]",
      "text/plain": [
       "<Figure size 432x288 with 1 Axes>"
      ]
     },
     "metadata": {
      "needs_background": "light"
     },
     "output_type": "display_data"
    }
   ],
   "source": [
    "x = ['2019 q1', '2019 q2', '2019 q3', '2019 q4',\n",
    "     '2020 q1', '2020 q2', '2020 q3', '2020 q4',\n",
    "     '2021 q1', '2021 q2', '2021 q3', '2021 q4']\n",
    "y = [q1_2019_profit, q2_2019_profit, q3_2019_profit, q4_2019_profit,\n",
    "     q1_2020_profit, q2_2020_profit, q3_2020_profit, q4_2020_profit,\n",
    "     q1_2021_profit, q2_2021_profit, q3_2021_profit, q4_2021_profit]\n",
    "\n",
    "plt.plot(x, y)\n",
    "\n",
    "plt.title('Profit By Quarter')\n",
    "plt.xlabel('Quarter')\n",
    "plt.ylabel('Sales')\n",
    "\n",
    "plt.xlim(0, 11)\n",
    "\n",
    "# rotate the x tick labels\n",
    "plt.xticks(rotation=75)\n",
    "plt.show()\n"
   ]
  },
  {
   "attachments": {},
   "cell_type": "markdown",
   "metadata": {},
   "source": [
    "### Average Employee Utilization By Department "
   ]
  },
  {
   "cell_type": "code",
   "execution_count": 20,
   "metadata": {},
   "outputs": [
    {
     "name": "stdout",
     "output_type": "stream",
     "text": [
      "DeptID  BillType   \n",
      "0       Billable            0.00\n",
      "        NonBillable    932134.11\n",
      "12      Billable       188772.00\n",
      "        NonBillable         1.50\n",
      "26      Billable       103090.17\n",
      "        NonBillable       888.65\n",
      "27      Billable       238822.08\n",
      "        NonBillable       243.20\n",
      "29      Billable        51995.95\n",
      "        NonBillable         0.50\n",
      "30      Billable        91629.14\n",
      "        NonBillable         4.25\n",
      "41      Billable        59250.01\n",
      "43      Billable       147296.25\n",
      "        NonBillable        20.10\n",
      "46      Billable          269.25\n",
      "51      Billable        34658.95\n",
      "        NonBillable        11.00\n",
      "52      Billable        41870.67\n",
      "        NonBillable        83.20\n",
      "53      Billable        12081.49\n",
      "        NonBillable         2.00\n",
      "54      Billable         2589.28\n",
      "55      Billable        41887.34\n",
      "56      Billable        34631.86\n",
      "        NonBillable         0.50\n",
      "Name: Hours, dtype: float64\n"
     ]
    }
   ],
   "source": [
    "departments = df[[\"DeptID\", \"DeptName\",\"EmployeeId\",\"BillType\",\"Hours\"]]\n",
    "departments = departments.sort_values(by='DeptID')\n",
    "departments.tail(100)\n",
    "\n",
    "\n",
    "hours_by_dept_billtype = df.groupby(['DeptID', 'BillType'])['Hours'].sum()\n",
    "print(hours_by_dept_billtype)\n"
   ]
  },
  {
   "attachments": {},
   "cell_type": "markdown",
   "metadata": {},
   "source": [
    "### Revenue By Department "
   ]
  }
 ],
 "metadata": {
  "kernelspec": {
   "display_name": "Python 3",
   "language": "python",
   "name": "python3"
  },
  "language_info": {
   "codemirror_mode": {
    "name": "ipython",
    "version": 3
   },
   "file_extension": ".py",
   "mimetype": "text/x-python",
   "name": "python",
   "nbconvert_exporter": "python",
   "pygments_lexer": "ipython3",
   "version": "3.10.0"
  },
  "orig_nbformat": 4,
  "vscode": {
   "interpreter": {
    "hash": "aee8b7b246df8f9039afb4144a1f6fd8d2ca17a180786b69acc140d282b71a49"
   }
  }
 },
 "nbformat": 4,
 "nbformat_minor": 2
}
