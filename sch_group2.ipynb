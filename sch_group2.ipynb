{
 "cells": [
  {
   "attachments": {},
   "cell_type": "markdown",
   "metadata": {},
   "source": [
    "# 2023 Towson University Data Analytics Competition"
   ]
  },
  {
   "attachments": {},
   "cell_type": "markdown",
   "metadata": {},
   "source": [
    "\n",
    "\n",
    "### Objectives\n",
    "##### 1. Employee Utilization (eu)\n",
    "- Group & sort clients by eu (high to low)\n",
    "- DGroup & sort employees by eu (high to low)\n",
    "- Filter\n",
    "     \n",
    "##### 2. Profitability\n",
    "- Group & sort clients by total amount \n",
    "- Group and sort profitability by year and quarter"
   ]
  },
  {
   "cell_type": "code",
   "execution_count": 62,
   "metadata": {},
   "outputs": [],
   "source": [
    "import time\n",
    "import pandas as pd\n",
    "from tqdm import tqdm\n",
    "import matplotlib.pyplot as plt"
   ]
  },
  {
   "cell_type": "code",
   "execution_count": 69,
   "metadata": {},
   "outputs": [],
   "source": [
    "df = pd.read_csv('SCHGROUP_data.csv')  \n",
    "df.head(10)"
   ]
  },
  {
   "cell_type": "code",
   "execution_count": 64,
   "metadata": {},
   "outputs": [],
   "source": [
    "hours = df[[\"EmployeeId\", \"ClientNum\", \"BillType\", \"Hours\"]]\n",
    "employee_ids = list(hours.EmployeeId.unique())\n",
    "client_ids =list(hours.ClientNum.unique())"
   ]
  },
  {
   "attachments": {},
   "cell_type": "markdown",
   "metadata": {},
   "source": [
    "### Compute Utilization Rate\n",
    " "
   ]
  },
  {
   "cell_type": "code",
   "execution_count": 65,
   "metadata": {},
   "outputs": [],
   "source": [
    "def get_rates(field):\n",
    "    if field == \"employee_id\":\n",
    "        ids = list(hours.EmployeeId.unique())\n",
    "        field = \"EmployeeId\"\n",
    "    elif field == \"client_id\":\n",
    "        ids =list(hours.ClientNum.unique())\n",
    "        field = \"ClientNum\"\n",
    "    util_rates = []\n",
    "    for i in tqdm(ids):\n",
    "        df = hours.loc[hours[field]==i]\n",
    "        billable = float(sum(list(df.loc[df['BillType'] == 'Billable'][\"Hours\"])))\n",
    "        nonbillable = float(sum(list(df.loc[df['BillType'] == 'NonBillable'][\"Hours\"])))\n",
    "        total = billable + nonbillable\n",
    "\n",
    "        try:\n",
    "            data = {field:i,\n",
    "                    \"billable\":billable,\n",
    "                    \"total\":total,\n",
    "                    \"ratio\": float(round(((billable/total) * 100),2))}\n",
    "            util_rates.append(data)\n",
    "        except:\n",
    "            data[\"billable_ratio\"]=0\n",
    "    new_df = pd.DataFrame(util_rates)\n",
    "    return new_df"
   ]
  },
  {
   "attachments": {},
   "cell_type": "markdown",
   "metadata": {},
   "source": [
    "### Employee Utilization"
   ]
  },
  {
   "cell_type": "code",
   "execution_count": 66,
   "metadata": {},
   "outputs": [
    {
     "name": "stderr",
     "output_type": "stream",
     "text": [
      "100%|██████████| 508/508 [00:01<00:00, 347.18it/s]\n"
     ]
    }
   ],
   "source": [
    "e_rates = get_rates(\"employee_id\")\n",
    "e_rates.to_csv(\"/Users/Yousefmacer/Github/sch-group/ouput/employee_rates.csv\", index=False)"
   ]
  },
  {
   "attachments": {},
   "cell_type": "markdown",
   "metadata": {},
   "source": [
    "### Client Utilization"
   ]
  },
  {
   "cell_type": "code",
   "execution_count": 67,
   "metadata": {},
   "outputs": [
    {
     "name": "stderr",
     "output_type": "stream",
     "text": [
      "100%|██████████| 3049/3049 [03:14<00:00, 15.64it/s]\n"
     ]
    }
   ],
   "source": [
    "c_rates = get_rates(\"client_id\")\n",
    "c_rates.to_csv(\"/Users/Yousefmacer/Github/sch-group/ouput/client_rates.csv\", index=False)"
   ]
  }
 ],
 "metadata": {
  "kernelspec": {
   "display_name": "Python 3",
   "language": "python",
   "name": "python3"
  },
  "language_info": {
   "codemirror_mode": {
    "name": "ipython",
    "version": 3
   },
   "file_extension": ".py",
   "mimetype": "text/x-python",
   "name": "python",
   "nbconvert_exporter": "python",
   "pygments_lexer": "ipython3",
   "version": "3.10.0"
  },
  "orig_nbformat": 4
 },
 "nbformat": 4,
 "nbformat_minor": 2
}
