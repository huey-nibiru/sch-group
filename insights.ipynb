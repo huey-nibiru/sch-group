{
 "cells": [
  {
   "cell_type": "code",
   "execution_count": 1,
   "metadata": {},
   "outputs": [
    {
     "name": "stderr",
     "output_type": "stream",
     "text": [
      "Matplotlib created a temporary config/cache directory at /var/folders/fm/gf09nxpx12n_7pcjsnlx5yt00000gn/T/matplotlib-w3y9u5b3 because the default path (/Users/Yousefmacer/.matplotlib) is not a writable directory; it is highly recommended to set the MPLCONFIGDIR environment variable to a writable directory, in particular to speed up the import of Matplotlib and to better support multiprocessing.\n"
     ]
    }
   ],
   "source": [
    "import seaborn as sns\n",
    "import pandas as pd\n",
    "import matplotlib.pyplot as plt\n",
    "import numpy as np\n",
    "\n",
    "\n",
    "# Load the dataset\n",
    "df = pd.read_csv('SCHGROUP_data.csv')\n",
    "\n",
    "# Filter the data for billable hours only\n",
    "df = df[df[\"BillType\"] == \"Billable\"]\n",
    "\n",
    "# Convert the Date column to a datetime object\n",
    "df['Date'] = pd.to_datetime(df['Date'])\n",
    "\n",
    "# Filter the data by year\n",
    "df_2019 = df[df['Date'].dt.year == 2019]\n",
    "df_2020 = df[df['Date'].dt.year == 2020]\n",
    "df_2021 = df[df['Date'].dt.year == 2021]\n"
   ]
  },
  {
   "attachments": {},
   "cell_type": "markdown",
   "metadata": {},
   "source": [
    "#### Which department had the most billable hours in 2019, 2020, and 2021?"
   ]
  },
  {
   "cell_type": "code",
   "execution_count": 2,
   "metadata": {},
   "outputs": [
    {
     "name": "stdout",
     "output_type": "stream",
     "text": [
      "The department with the most billable hours in 2019 was TAS - Audit.\n",
      "The department with the most billable hours in 2020 was TAS - Audit.\n",
      "The department with the most billable hours in 2021 was TAS - Audit.\n"
     ]
    }
   ],
   "source": [
    "\n",
    "\n",
    "# Group the data by department and sum the Hours column\n",
    "hours_2019 = df_2019.groupby('DeptName')['Hours'].sum()\n",
    "\n",
    "hours_2020 = df_2020.groupby('DeptName')['Hours'].sum()\n",
    "hours_2021 = df_2021.groupby('DeptName')['Hours'].sum()\n",
    "\n",
    "# Find the department with the highest billable hours in each year\n",
    "max_dept_2019 = hours_2019.idxmax()\n",
    "max_dept_2020 = hours_2020.idxmax()\n",
    "max_dept_2021 = hours_2021.idxmax()\n",
    "\n",
    "# Sort by Hours\n",
    "h2019=hours_2019.reset_index().sort_values(by='Hours', ascending=False)\n",
    "h2020=hours_2020.reset_index().sort_values(by='Hours', ascending=False)\n",
    "h2021=hours_2021.reset_index().sort_values(by='Hours', ascending=False)\n",
    "\n",
    "print(f\"The department with the most billable hours in 2019 was {max_dept_2019}.\")\n",
    "print(f\"The department with the most billable hours in 2020 was {max_dept_2020}.\")\n",
    "print(f\"The department with the most billable hours in 2021 was {max_dept_2021}.\")"
   ]
  },
  {
   "attachments": {},
   "cell_type": "markdown",
   "metadata": {},
   "source": [
    "#### Which client had the highest total billable amount in each year?\n"
   ]
  },
  {
   "cell_type": "code",
   "execution_count": 3,
   "metadata": {},
   "outputs": [
    {
     "name": "stdout",
     "output_type": "stream",
     "text": [
      "   Year ClientNum                                        TotalAmount\n",
      "0  2019   CLT1579  $992.06 $981.34 $130.85 $79.37 $1,226.67 $636....\n",
      "1  2020   CLT3705  $997.43 $83.12 $83.12 $262.76 $249.36 $494.15 ...\n",
      "2  2021   CLT3199  $992.06 $589.88 $268.13 $375.38 $1,126.13 $321...\n"
     ]
    }
   ],
   "source": [
    "# convert Date column to datetime type\n",
    "df['Date'] = pd.to_datetime(df['Date'])\n",
    "\n",
    "# create a new column for the year\n",
    "df['Year'] = df['Date'].dt.year\n",
    "\n",
    "# group the dataset by Year and ClientNum, and calculate the sum of TotalAmount\n",
    "grouped_df = df.groupby(['Year', 'ClientNum'])['TotalAmount'].sum().reset_index()\n",
    "\n",
    "# sort the dataframe by TotalAmount in descending order\n",
    "sorted_df = grouped_df.sort_values(['Year', 'TotalAmount'], ascending=[True, False])\n",
    "\n",
    "# select the top row for each year\n",
    "result = sorted_df.groupby('Year').first().reset_index()\n",
    "\n",
    "# print the result\n",
    "print(result)"
   ]
  },
  {
   "cell_type": "markdown",
   "metadata": {},
   "source": [
    "#### How many different clients used the company's services over the three years?\n"
   ]
  },
  {
   "cell_type": "code",
   "execution_count": 4,
   "metadata": {},
   "outputs": [
    {
     "name": "stdout",
     "output_type": "stream",
     "text": [
      "3049\n"
     ]
    }
   ],
   "source": [
    "# Count the number of unique clients in the dataset\n",
    "num_clients = len(df['ClientNum'].unique())\n",
    "\n",
    "print(num_clients)"
   ]
  },
  {
   "attachments": {},
   "cell_type": "markdown",
   "metadata": {},
   "source": [
    "#### Which employee billed the most hours in each year?\n"
   ]
  },
  {
   "cell_type": "code",
   "execution_count": 5,
   "metadata": {},
   "outputs": [
    {
     "name": "stdout",
     "output_type": "stream",
     "text": [
      "Date\n",
      "2019-01-01    (110, 2019-01-01 00:00:00)\n",
      "2019-01-02    (110, 2019-01-02 00:00:00)\n",
      "2019-01-03    (110, 2019-01-03 00:00:00)\n",
      "2019-01-04    (110, 2019-01-04 00:00:00)\n",
      "2019-01-05    (110, 2019-01-05 00:00:00)\n",
      "2019-01-06     (64, 2019-01-06 00:00:00)\n",
      "2019-01-07     (64, 2019-01-07 00:00:00)\n",
      "2019-01-08      (5, 2019-01-08 00:00:00)\n",
      "2019-01-09     (64, 2019-01-09 00:00:00)\n",
      "2019-01-10     (64, 2019-01-10 00:00:00)\n",
      "2019-01-11     (64, 2019-01-11 00:00:00)\n",
      "2019-01-12    (226, 2019-01-12 00:00:00)\n",
      "2019-01-13    (226, 2019-01-13 00:00:00)\n",
      "2019-01-14     (64, 2019-01-14 00:00:00)\n",
      "2019-01-15     (64, 2019-01-15 00:00:00)\n",
      "2019-01-16     (64, 2019-01-16 00:00:00)\n",
      "2019-01-17    (110, 2019-01-17 00:00:00)\n",
      "2019-01-18    (110, 2019-01-18 00:00:00)\n",
      "2019-01-19    (113, 2019-01-19 00:00:00)\n",
      "2019-01-20    (122, 2019-01-20 00:00:00)\n",
      "2019-01-21    (147, 2019-01-21 00:00:00)\n",
      "2019-01-22    (122, 2019-01-22 00:00:00)\n",
      "2019-01-23    (147, 2019-01-23 00:00:00)\n",
      "2019-01-24    (147, 2019-01-24 00:00:00)\n",
      "2019-01-25    (147, 2019-01-25 00:00:00)\n",
      "2019-01-26    (226, 2019-01-26 00:00:00)\n",
      "2019-01-27    (186, 2019-01-27 00:00:00)\n",
      "2019-01-28    (226, 2019-01-28 00:00:00)\n",
      "2019-01-29    (226, 2019-01-29 00:00:00)\n",
      "2019-01-30      (5, 2019-01-30 00:00:00)\n",
      "Name: Hours, dtype: object\n"
     ]
    }
   ],
   "source": [
    "# Calculate the sum of billable hours for each employee in each year\n",
    "employee_hours = df.groupby(['EmployeeId', 'Date'])['Hours'].sum()\n",
    "\n",
    "# Find the employee with the highest billable hours for each year\n",
    "highest_employee_hours = employee_hours.groupby('Date').idxmax()\n",
    "\n",
    "print(highest_employee_hours.head(30))"
   ]
  },
  {
   "cell_type": "markdown",
   "metadata": {},
   "source": [
    "#### Which department had the highest total billable amount in each year?\n"
   ]
  },
  {
   "cell_type": "code",
   "execution_count": 6,
   "metadata": {},
   "outputs": [
    {
     "ename": "TypeError",
     "evalue": "reduction operation 'argmax' not allowed for this dtype",
     "output_type": "error",
     "traceback": [
      "\u001b[0;31m---------------------------------------------------------------------------\u001b[0m",
      "\u001b[0;31mTypeError\u001b[0m                                 Traceback (most recent call last)",
      "Cell \u001b[0;32mIn[6], line 5\u001b[0m\n\u001b[1;32m      2\u001b[0m total_amount \u001b[39m=\u001b[39m df\u001b[39m.\u001b[39mgroupby([\u001b[39m'\u001b[39m\u001b[39mDeptName\u001b[39m\u001b[39m'\u001b[39m, \u001b[39m'\u001b[39m\u001b[39mDate\u001b[39m\u001b[39m'\u001b[39m])[\u001b[39m'\u001b[39m\u001b[39mTotalAmount\u001b[39m\u001b[39m'\u001b[39m]\u001b[39m.\u001b[39msum()\n\u001b[1;32m      4\u001b[0m \u001b[39m# Find the department with the highest total amount for each year\u001b[39;00m\n\u001b[0;32m----> 5\u001b[0m highest_dept_amount \u001b[39m=\u001b[39m total_amount\u001b[39m.\u001b[39;49mgroupby(\u001b[39m'\u001b[39;49m\u001b[39mDate\u001b[39;49m\u001b[39m'\u001b[39;49m)\u001b[39m.\u001b[39;49midxmax()\n\u001b[1;32m      7\u001b[0m \u001b[39mprint\u001b[39m(highest_dept_amount)\n",
      "File \u001b[0;32m~/opt/anaconda3/envs/tickpick/lib/python3.10/site-packages/pandas/core/groupby/groupby.py:1042\u001b[0m, in \u001b[0;36mGroupBy._make_wrapper.<locals>.wrapper\u001b[0;34m(*args, **kwargs)\u001b[0m\n\u001b[1;32m   1039\u001b[0m \u001b[39mif\u001b[39;00m is_transform \u001b[39mand\u001b[39;00m \u001b[39mself\u001b[39m\u001b[39m.\u001b[39m_obj_with_exclusions\u001b[39m.\u001b[39mempty:\n\u001b[1;32m   1040\u001b[0m     \u001b[39mreturn\u001b[39;00m \u001b[39mself\u001b[39m\u001b[39m.\u001b[39m_obj_with_exclusions\n\u001b[0;32m-> 1042\u001b[0m result \u001b[39m=\u001b[39m \u001b[39mself\u001b[39;49m\u001b[39m.\u001b[39;49m_python_apply_general(\n\u001b[1;32m   1043\u001b[0m     curried,\n\u001b[1;32m   1044\u001b[0m     \u001b[39mself\u001b[39;49m\u001b[39m.\u001b[39;49m_obj_with_exclusions,\n\u001b[1;32m   1045\u001b[0m     is_transform\u001b[39m=\u001b[39;49mis_transform,\n\u001b[1;32m   1046\u001b[0m     not_indexed_same\u001b[39m=\u001b[39;49m\u001b[39mnot\u001b[39;49;00m is_transform,\n\u001b[1;32m   1047\u001b[0m )\n\u001b[1;32m   1049\u001b[0m \u001b[39mif\u001b[39;00m \u001b[39mself\u001b[39m\u001b[39m.\u001b[39m_selected_obj\u001b[39m.\u001b[39mndim \u001b[39m!=\u001b[39m \u001b[39m1\u001b[39m \u001b[39mand\u001b[39;00m \u001b[39mself\u001b[39m\u001b[39m.\u001b[39maxis \u001b[39m!=\u001b[39m \u001b[39m1\u001b[39m \u001b[39mand\u001b[39;00m result\u001b[39m.\u001b[39mndim \u001b[39m!=\u001b[39m \u001b[39m1\u001b[39m:\n\u001b[1;32m   1050\u001b[0m     missing \u001b[39m=\u001b[39m \u001b[39mself\u001b[39m\u001b[39m.\u001b[39m_obj_with_exclusions\u001b[39m.\u001b[39mcolumns\u001b[39m.\u001b[39mdifference(result\u001b[39m.\u001b[39mcolumns)\n",
      "File \u001b[0;32m~/opt/anaconda3/envs/tickpick/lib/python3.10/site-packages/pandas/core/groupby/groupby.py:1610\u001b[0m, in \u001b[0;36mGroupBy._python_apply_general\u001b[0;34m(self, f, data, not_indexed_same, is_transform, is_agg)\u001b[0m\n\u001b[1;32m   1573\u001b[0m \u001b[39m@final\u001b[39m\n\u001b[1;32m   1574\u001b[0m \u001b[39mdef\u001b[39;00m \u001b[39m_python_apply_general\u001b[39m(\n\u001b[1;32m   1575\u001b[0m     \u001b[39mself\u001b[39m,\n\u001b[0;32m   (...)\u001b[0m\n\u001b[1;32m   1580\u001b[0m     is_agg: \u001b[39mbool\u001b[39m \u001b[39m=\u001b[39m \u001b[39mFalse\u001b[39;00m,\n\u001b[1;32m   1581\u001b[0m ) \u001b[39m-\u001b[39m\u001b[39m>\u001b[39m NDFrameT:\n\u001b[1;32m   1582\u001b[0m \u001b[39m    \u001b[39m\u001b[39m\"\"\"\u001b[39;00m\n\u001b[1;32m   1583\u001b[0m \u001b[39m    Apply function f in python space\u001b[39;00m\n\u001b[1;32m   1584\u001b[0m \n\u001b[0;32m   (...)\u001b[0m\n\u001b[1;32m   1608\u001b[0m \u001b[39m        data after applying f\u001b[39;00m\n\u001b[1;32m   1609\u001b[0m \u001b[39m    \"\"\"\u001b[39;00m\n\u001b[0;32m-> 1610\u001b[0m     values, mutated \u001b[39m=\u001b[39m \u001b[39mself\u001b[39;49m\u001b[39m.\u001b[39;49mgrouper\u001b[39m.\u001b[39;49mapply(f, data, \u001b[39mself\u001b[39;49m\u001b[39m.\u001b[39;49maxis)\n\u001b[1;32m   1611\u001b[0m     \u001b[39mif\u001b[39;00m not_indexed_same \u001b[39mis\u001b[39;00m \u001b[39mNone\u001b[39;00m:\n\u001b[1;32m   1612\u001b[0m         not_indexed_same \u001b[39m=\u001b[39m mutated \u001b[39mor\u001b[39;00m \u001b[39mself\u001b[39m\u001b[39m.\u001b[39mmutated\n",
      "File \u001b[0;32m~/opt/anaconda3/envs/tickpick/lib/python3.10/site-packages/pandas/core/groupby/ops.py:839\u001b[0m, in \u001b[0;36mBaseGrouper.apply\u001b[0;34m(self, f, data, axis)\u001b[0m\n\u001b[1;32m    837\u001b[0m \u001b[39m# group might be modified\u001b[39;00m\n\u001b[1;32m    838\u001b[0m group_axes \u001b[39m=\u001b[39m group\u001b[39m.\u001b[39maxes\n\u001b[0;32m--> 839\u001b[0m res \u001b[39m=\u001b[39m f(group)\n\u001b[1;32m    840\u001b[0m \u001b[39mif\u001b[39;00m \u001b[39mnot\u001b[39;00m mutated \u001b[39mand\u001b[39;00m \u001b[39mnot\u001b[39;00m _is_indexed_like(res, group_axes, axis):\n\u001b[1;32m    841\u001b[0m     mutated \u001b[39m=\u001b[39m \u001b[39mTrue\u001b[39;00m\n",
      "File \u001b[0;32m~/opt/anaconda3/envs/tickpick/lib/python3.10/site-packages/pandas/core/groupby/groupby.py:1025\u001b[0m, in \u001b[0;36mGroupBy._make_wrapper.<locals>.wrapper.<locals>.curried\u001b[0;34m(x)\u001b[0m\n\u001b[1;32m   1023\u001b[0m match \u001b[39m=\u001b[39m \u001b[39m\"\u001b[39m\u001b[39mThe default value of numeric_only \u001b[39m\u001b[39m\"\u001b[39m\n\u001b[1;32m   1024\u001b[0m warnings\u001b[39m.\u001b[39mfilterwarnings(\u001b[39m\"\u001b[39m\u001b[39mignore\u001b[39m\u001b[39m\"\u001b[39m, match, \u001b[39mFutureWarning\u001b[39;00m)\n\u001b[0;32m-> 1025\u001b[0m \u001b[39mreturn\u001b[39;00m f(x, \u001b[39m*\u001b[39;49margs, \u001b[39m*\u001b[39;49m\u001b[39m*\u001b[39;49mkwargs)\n",
      "File \u001b[0;32m~/opt/anaconda3/envs/tickpick/lib/python3.10/site-packages/pandas/core/series.py:2567\u001b[0m, in \u001b[0;36mSeries.idxmax\u001b[0;34m(self, axis, skipna, *args, **kwargs)\u001b[0m\n\u001b[1;32m   2503\u001b[0m \u001b[39mdef\u001b[39;00m \u001b[39midxmax\u001b[39m(\u001b[39mself\u001b[39m, axis: Axis \u001b[39m=\u001b[39m \u001b[39m0\u001b[39m, skipna: \u001b[39mbool\u001b[39m \u001b[39m=\u001b[39m \u001b[39mTrue\u001b[39;00m, \u001b[39m*\u001b[39margs, \u001b[39m*\u001b[39m\u001b[39m*\u001b[39mkwargs) \u001b[39m-\u001b[39m\u001b[39m>\u001b[39m Hashable:\n\u001b[1;32m   2504\u001b[0m \u001b[39m    \u001b[39m\u001b[39m\"\"\"\u001b[39;00m\n\u001b[1;32m   2505\u001b[0m \u001b[39m    Return the row label of the maximum value.\u001b[39;00m\n\u001b[1;32m   2506\u001b[0m \n\u001b[0;32m   (...)\u001b[0m\n\u001b[1;32m   2565\u001b[0m \u001b[39m    nan\u001b[39;00m\n\u001b[1;32m   2566\u001b[0m \u001b[39m    \"\"\"\u001b[39;00m\n\u001b[0;32m-> 2567\u001b[0m     i \u001b[39m=\u001b[39m \u001b[39mself\u001b[39;49m\u001b[39m.\u001b[39;49margmax(axis, skipna, \u001b[39m*\u001b[39;49margs, \u001b[39m*\u001b[39;49m\u001b[39m*\u001b[39;49mkwargs)\n\u001b[1;32m   2568\u001b[0m     \u001b[39mif\u001b[39;00m i \u001b[39m==\u001b[39m \u001b[39m-\u001b[39m\u001b[39m1\u001b[39m:\n\u001b[1;32m   2569\u001b[0m         \u001b[39mreturn\u001b[39;00m np\u001b[39m.\u001b[39mnan\n",
      "File \u001b[0;32m~/opt/anaconda3/envs/tickpick/lib/python3.10/site-packages/pandas/core/base.py:655\u001b[0m, in \u001b[0;36mIndexOpsMixin.argmax\u001b[0;34m(self, axis, skipna, *args, **kwargs)\u001b[0m\n\u001b[1;32m    651\u001b[0m         \u001b[39mreturn\u001b[39;00m delegate\u001b[39m.\u001b[39margmax()\n\u001b[1;32m    652\u001b[0m \u001b[39melse\u001b[39;00m:\n\u001b[1;32m    653\u001b[0m     \u001b[39m# error: Incompatible return value type (got \"Union[int, ndarray]\", expected\u001b[39;00m\n\u001b[1;32m    654\u001b[0m     \u001b[39m# \"int\")\u001b[39;00m\n\u001b[0;32m--> 655\u001b[0m     \u001b[39mreturn\u001b[39;00m nanops\u001b[39m.\u001b[39;49mnanargmax(  \u001b[39m# type: ignore[return-value]\u001b[39;49;00m\n\u001b[1;32m    656\u001b[0m         delegate, skipna\u001b[39m=\u001b[39;49mskipna\n\u001b[1;32m    657\u001b[0m     )\n",
      "File \u001b[0;32m~/opt/anaconda3/envs/tickpick/lib/python3.10/site-packages/pandas/core/nanops.py:88\u001b[0m, in \u001b[0;36mdisallow.__call__.<locals>._f\u001b[0;34m(*args, **kwargs)\u001b[0m\n\u001b[1;32m     86\u001b[0m \u001b[39mif\u001b[39;00m \u001b[39many\u001b[39m(\u001b[39mself\u001b[39m\u001b[39m.\u001b[39mcheck(obj) \u001b[39mfor\u001b[39;00m obj \u001b[39min\u001b[39;00m obj_iter):\n\u001b[1;32m     87\u001b[0m     f_name \u001b[39m=\u001b[39m f\u001b[39m.\u001b[39m\u001b[39m__name__\u001b[39m\u001b[39m.\u001b[39mreplace(\u001b[39m\"\u001b[39m\u001b[39mnan\u001b[39m\u001b[39m\"\u001b[39m, \u001b[39m\"\u001b[39m\u001b[39m\"\u001b[39m)\n\u001b[0;32m---> 88\u001b[0m     \u001b[39mraise\u001b[39;00m \u001b[39mTypeError\u001b[39;00m(\n\u001b[1;32m     89\u001b[0m         \u001b[39mf\u001b[39m\u001b[39m\"\u001b[39m\u001b[39mreduction operation \u001b[39m\u001b[39m'\u001b[39m\u001b[39m{\u001b[39;00mf_name\u001b[39m}\u001b[39;00m\u001b[39m'\u001b[39m\u001b[39m not allowed for this dtype\u001b[39m\u001b[39m\"\u001b[39m\n\u001b[1;32m     90\u001b[0m     )\n\u001b[1;32m     91\u001b[0m \u001b[39mtry\u001b[39;00m:\n\u001b[1;32m     92\u001b[0m     \u001b[39mwith\u001b[39;00m np\u001b[39m.\u001b[39merrstate(invalid\u001b[39m=\u001b[39m\u001b[39m\"\u001b[39m\u001b[39mignore\u001b[39m\u001b[39m\"\u001b[39m):\n",
      "\u001b[0;31mTypeError\u001b[0m: reduction operation 'argmax' not allowed for this dtype"
     ]
    }
   ],
   "source": [
    "# Calculate the sum of total amount for each department in each year\n",
    "total_amount = df.groupby(['DeptName', 'Date'])['TotalAmount'].sum()\n",
    "\n",
    "# Find the department with the highest total amount for each year\n",
    "highest_dept_amount = total_amount.groupby('Date').idxmax()\n",
    "\n",
    "print(highest_dept_amount)"
   ]
  },
  {
   "attachments": {},
   "cell_type": "markdown",
   "metadata": {},
   "source": [
    "#### What is the overall trend in billable hours over the three years?\n"
   ]
  },
  {
   "cell_type": "code",
   "execution_count": null,
   "metadata": {},
   "outputs": [],
   "source": [
    "# Create a new column for the year\n",
    "df['Year'] = df['Date'].dt.year\n",
    "\n",
    "# Group the data by year and sum the Hours and TotalAmount columns\n",
    "yearly_totals = df.groupby('Year')[['Hours', 'TotalAmount']].sum()\n",
    "\n",
    "\n",
    "\n",
    "# Plot the trends in billable hours and billable amount\n",
    "plt.plot(yearly_totals.index, yearly_totals['Hours'], label='Billable Hours')\n",
    "plt.xlabel('Year')\n",
    "plt.ylabel('Amount')\n",
    "plt.title('Trend in Billable Hours')\n",
    "plt.legend()\n",
    "plt.show()"
   ]
  },
  {
   "cell_type": "markdown",
   "metadata": {},
   "source": [
    "#### What is the total amount billed by each employee in each year?\n"
   ]
  },
  {
   "cell_type": "code",
   "execution_count": null,
   "metadata": {},
   "outputs": [],
   "source": [
    "# Group the data by year and employee id and sum the TotalAmount column\n",
    "employee_yearly_totals = df.groupby(['Year', 'EmployeeId'])['TotalAmount'].sum()\n",
    "\n",
    "# Print the results\n",
    "print(employee_yearly_totals)"
   ]
  },
  {
   "attachments": {},
   "cell_type": "markdown",
   "metadata": {},
   "source": [
    "#### What is the distribution of billable rates across all departments?\n"
   ]
  },
  {
   "cell_type": "code",
   "execution_count": null,
   "metadata": {},
   "outputs": [],
   "source": [
    "# Plot the distribution of billable rates across all departments\n",
    "sns.histplot(data=df, x='BillRate', hue='DeptName')\n",
    "plt.show()"
   ]
  },
  {
   "cell_type": "markdown",
   "metadata": {},
   "source": [
    "#### What is the average billable rate for each client over the three years?\n"
   ]
  },
  {
   "cell_type": "code",
   "execution_count": null,
   "metadata": {},
   "outputs": [],
   "source": [
    "# Calculate the mean billable rate for each client in each year\n",
    "mean_billable_rate = df.groupby(['ClientNum', 'Date'])['BillRate'].mean()\n",
    "\n",
    "print(mean_billable_rate)\n"
   ]
  },
  {
   "attachments": {},
   "cell_type": "markdown",
   "metadata": {},
   "source": [
    "#### Clients who consistently have high or low billable rates?\n"
   ]
  },
  {
   "cell_type": "code",
   "execution_count": null,
   "metadata": {},
   "outputs": [],
   "source": [
    "# Calculate the standard deviation of billable rates for each client over the three years\n",
    "std_billable_rate = df.groupby(['ClientNum'])['BillRate'].std()\n",
    "\n",
    "# Find the clients with the highest and lowest standard deviation\n",
    "highest_std_clients = std_billable_rate.nlargest(5)\n",
    "lowest_std_clients = std_billable_rate.nsmallest(5)\n",
    "\n",
    "print(highest_std_clients)\n",
    "print(lowest_std_clients)\n"
   ]
  },
  {
   "attachments": {},
   "cell_type": "markdown",
   "metadata": {},
   "source": [
    "#### Departments or employees that consistently underperform in terms of billable hours or billable amount?\n"
   ]
  },
  {
   "cell_type": "code",
   "execution_count": null,
   "metadata": {},
   "outputs": [],
   "source": [
    "# Calculate the mean billable hours and total amount for each department and employee\n",
    "dept_hours_amount = df.groupby(['DeptName'])[['Hours', 'TotalAmount']].mean()\n",
    "employee_hours_amount = df.groupby(['EmployeeId'])[['Hours', 'TotalAmount']].mean()\n",
    "\n",
    "# Find the departments and employees with the lowest mean billable hours and total amount\n",
    "lowest_dept_hours = dept_hours_amount.nsmallest(5, 'Hours')\n",
    "lowest_dept_amount = dept_hours_amount.nsmallest(5, 'TotalAmount')\n",
    "lowest_employee_hours = employee_hours_amount.nsmallest(5, 'Hours')\n",
    "lowest_employee_amount = employee_hours_amount.nsmallest(5, 'TotalAmount')\n",
    "\n",
    "print(lowest_dept_hours)\n",
    "print(lowest_dept_amount)\n",
    "print(lowest_employee_hours)\n",
    "print(lowest_employee_amount)"
   ]
  },
  {
   "cell_type": "markdown",
   "metadata": {},
   "source": [
    "#### How many different departments are represented in the dataset?\n"
   ]
  },
  {
   "cell_type": "code",
   "execution_count": null,
   "metadata": {},
   "outputs": [],
   "source": [
    "# Count the number of unique departments in the dataset\n",
    "num_departments = len(df['DeptName'].unique())\n",
    "\n",
    "print(num_departments)"
   ]
  },
  {
   "attachments": {},
   "cell_type": "markdown",
   "metadata": {},
   "source": [
    "#### What is the ratio of billable hours to total hours worked by each employee in each year?"
   ]
  },
  {
   "cell_type": "code",
   "execution_count": null,
   "metadata": {},
   "outputs": [],
   "source": [
    "# Calculate the ratio of billable hours to total hours for each employee in each year\n",
    "employee_ratio = df.groupby(['EmployeeId', 'Date']).apply(lambda x: x[x['BillType'] == 'Billable']['Hours'].sum() / x['Hours'].sum())\n",
    "\n",
    "print(employee_ratio)\n"
   ]
  },
  {
   "cell_type": "markdown",
   "metadata": {},
   "source": [
    "#### What is the overall distribution of billable hours and billable amount across all clients and departments?\n"
   ]
  },
  {
   "cell_type": "code",
   "execution_count": null,
   "metadata": {},
   "outputs": [],
   "source": [
    "# Plot the distribution of billable hours and total amount across all clients and departments\n",
    "sns.histplot(data=df, x='Hours', hue='DeptName')\n",
    "sns.histplot(data=df, x='TotalAmount', hue='DeptName')\n",
    "plt.show()"
   ]
  },
  {
   "cell_type": "code",
   "execution_count": null,
   "metadata": {},
   "outputs": [],
   "source": []
  }
 ],
 "metadata": {
  "kernelspec": {
   "display_name": "Python 3",
   "language": "python",
   "name": "python3"
  },
  "language_info": {
   "codemirror_mode": {
    "name": "ipython",
    "version": 3
   },
   "file_extension": ".py",
   "mimetype": "text/x-python",
   "name": "python",
   "nbconvert_exporter": "python",
   "pygments_lexer": "ipython3",
   "version": "3.10.4"
  },
  "orig_nbformat": 4
 },
 "nbformat": 4,
 "nbformat_minor": 2
}
